{
 "cells": [
  {
   "cell_type": "markdown",
   "metadata": {},
   "source": [
    "## Program requirements:\n",
    "1. Input is a satellite image in tiff format\n",
    "\n",
    "2. Image should be sliced for varying zoom levels, pixel density, size\n",
    "\n",
    "3. It should be sliced according to given number of slices, zoom levels, \n",
    "\n",
    "4. We should be able to retrieve the following information from image names: city, zoom level, pixel density, geocoordinate of topleft pixel using the following format: `city_originalImagename_latLongTopLeft_zoomLevel_pixelDensity.jpeg`"
   ]
  },
  {
   "cell_type": "markdown",
   "metadata": {},
   "source": [
    "## Approach\n",
    "1. Read tiff image using rasterio\n",
    "2. Set values for zoom levels, pixel density, image size in pixels\n",
    "3. Slice image according to the formerly set values\n",
    "4. Assign geocoordinate of top left pixel for each image slice\n",
    "5. Rename sliced image and save in prescribed format"
   ]
  },
  {
   "cell_type": "markdown",
   "metadata": {},
   "source": [
    "## Helper functions required\n",
    "1. __zoomlevels__ (measured in pixels per meter) to extract zoom level of image. Image slicing preserves zoom levels.\n",
    "2. __coordRasterTopLeft__ calculates the geocoordinates of top left pixel of image"
   ]
  },
  {
   "cell_type": "code",
   "execution_count": 216,
   "metadata": {},
   "outputs": [],
   "source": [
    "#import OS for system operations\n",
    "import os\n",
    "\n",
    "#importing necessary libraries\n",
    "from PIL import Image\n",
    "\n",
    "#disables upper limit for pixel size\n",
    "Image.MAX_IMAGE_PIXELS = None\n",
    "\n",
    "#rasterio is mostly used for reading and writing rasters\n",
    "import rasterio as rio\n",
    "\n",
    "#earthpy makes it easier to plot and manipulate spatial data in python\n",
    "import earthpy as et"
   ]
  },
  {
   "cell_type": "code",
   "execution_count": 217,
   "metadata": {},
   "outputs": [],
   "source": [
    "im = Image.open('image.tif')"
   ]
  },
  {
   "cell_type": "code",
   "execution_count": 218,
   "metadata": {},
   "outputs": [],
   "source": [
    "im.save('test.jpeg')"
   ]
  },
  {
   "cell_type": "code",
   "execution_count": 219,
   "metadata": {
    "scrolled": true
   },
   "outputs": [
    {
     "name": "stdout",
     "output_type": "stream",
     "text": [
      "BoundingBox(left=517150.0, bottom=734768.0, right=525342.0, top=742960.0)\n",
      "{'driver': 'GTiff', 'dtype': 'uint8', 'nodata': 0.0, 'width': 16384, 'height': 16384, 'count': 3, 'crs': CRS.from_dict(init='epsg:32631'), 'transform': Affine(0.5, 0.0, 517150.0,\n",
      "       0.0, -0.5, 742960.0)}\n"
     ]
    }
   ],
   "source": [
    "with rio.open('image.tif') as sat:\n",
    "    print(sat.bounds)\n",
    "    print(sat.meta)"
   ]
  },
  {
   "cell_type": "code",
   "execution_count": 220,
   "metadata": {},
   "outputs": [],
   "source": [
    "def zoomlevel(image):\n",
    "    \"\"\"Calculates zoom level in meters per pixel\"\"\"\n",
    "    return (image.bounds[3] - image.bounds[1])/image.meta['width']"
   ]
  },
  {
   "cell_type": "code",
   "execution_count": 221,
   "metadata": {},
   "outputs": [
    {
     "data": {
      "text/plain": [
       "0.5"
      ]
     },
     "execution_count": 221,
     "metadata": {},
     "output_type": "execute_result"
    }
   ],
   "source": [
    "zoomlevel(sat)"
   ]
  },
  {
   "cell_type": "code",
   "execution_count": 222,
   "metadata": {},
   "outputs": [],
   "source": [
    "def coordRasterTopLeft(image_tif):\n",
    "    \"\"\"Calculates the coordinate of top left pixel of raster\"\"\"\n",
    "    top_left_lat, top_left_long = image_tif.transform*(0,0)\n",
    "    return top_left_lat, top_left_long\n",
    "    print(top_left_lat, top_left_long)"
   ]
  },
  {
   "cell_type": "code",
   "execution_count": 223,
   "metadata": {},
   "outputs": [],
   "source": [
    "def slicer(infile, chopsize, geoimage):\n",
    "    \"\"\"Slices images into square pieces of given chopsize\"\"\"\n",
    "    #infile = 'test.jpeg'\n",
    "    #chopsize = 300\n",
    "\n",
    "    img = Image.open(infile)\n",
    "    width, height = img.size\n",
    "\n",
    "    # Save Chops of original image\n",
    "    for x0 in range(0, width, chopsize):\n",
    "       for y0 in range(0, height, chopsize):\n",
    "          box = (x0, y0,\n",
    "                 x0+chopsize if x0+chopsize <  width else  width - 1,\n",
    "                 y0+chopsize if y0+chopsize < height else height - 1)\n",
    "          print('%s %s' % (infile, box))\n",
    "          lat_ = coordRasterTopLeft(geoimage)[0] + x0*zoomlevel(geoimage)\n",
    "          long_ = coordRasterTopLeft(geoimage)[1] + y0*zoomlevel(geoimage)\n",
    "          zoomlevels = zoomlevel(geoimage)\n",
    "          print(zoomlevels)\n",
    "          \n",
    "          #long_ = fff\n",
    "          img.crop(box).save('city_%s_lat%03d_long%03d_zl%03d_pd%d.jpg' % (infile.replace('.jpeg',''), \n",
    "                                                                           lat_, \n",
    "                                                                           long_, \n",
    "                                                                           zoomlevels, chopsize))"
   ]
  },
  {
   "cell_type": "code",
   "execution_count": 224,
   "metadata": {
    "scrolled": true
   },
   "outputs": [
    {
     "name": "stdout",
     "output_type": "stream",
     "text": [
      "test.jpeg (0, 0, 12000, 12000)\n",
      "0.5\n",
      "test.jpeg (0, 12000, 12000, 16383)\n",
      "0.5\n",
      "test.jpeg (12000, 0, 16383, 12000)\n",
      "0.5\n",
      "test.jpeg (12000, 12000, 16383, 16383)\n",
      "0.5\n"
     ]
    }
   ],
   "source": [
    "slicer('test.jpeg',12000,sat)"
   ]
  },
  {
   "cell_type": "code",
   "execution_count": 225,
   "metadata": {},
   "outputs": [
    {
     "name": "stdout",
     "output_type": "stream",
     "text": [
      "city_test_lat517150_long742960_zl000_pd12000.jpg\n",
      "city_test_lat517150_long748960_zl000_pd12000.jpg\n",
      "city_test_lat523150_long742960_zl000_pd12000.jpg\n",
      "city_test_lat523150_long748960_zl000_pd12000.jpg\n",
      "image.tif\n",
      "satslice.ipynb\n",
      "test.jpeg\n",
      "satslice-checkpoint.ipynb\n"
     ]
    }
   ],
   "source": [
    "#shows existing files in working directory\n",
    "import os\n",
    "\n",
    "for root, dirs, files in os.walk(\".\"):\n",
    "    for filename in files:\n",
    "        print(filename)"
   ]
  },
  {
   "cell_type": "markdown",
   "metadata": {},
   "source": [
    "Zoom level of image slices can be changed by changing zoom level of input image before slicing as slicing retains zoom levels.\n"
   ]
  },
  {
   "cell_type": "code",
   "execution_count": 226,
   "metadata": {},
   "outputs": [],
   "source": [
    "#example\n",
    "resized = im.resize((400,400),Image.ANTIALIAS)\n"
   ]
  },
  {
   "cell_type": "code",
   "execution_count": 227,
   "metadata": {},
   "outputs": [
    {
     "name": "stdout",
     "output_type": "stream",
     "text": [
      "(400, 400)\n"
     ]
    }
   ],
   "source": [
    "print(resized.size)"
   ]
  }
 ],
 "metadata": {
  "kernelspec": {
   "display_name": "Python 3",
   "language": "python",
   "name": "python3"
  },
  "language_info": {
   "codemirror_mode": {
    "name": "ipython",
    "version": 3
   },
   "file_extension": ".py",
   "mimetype": "text/x-python",
   "name": "python",
   "nbconvert_exporter": "python",
   "pygments_lexer": "ipython3",
   "version": "3.7.4"
  }
 },
 "nbformat": 4,
 "nbformat_minor": 2
}
